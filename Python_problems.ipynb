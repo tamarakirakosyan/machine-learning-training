{
 "cells": [
  {
   "cell_type": "markdown",
   "metadata": {},
   "source": [
    "# Python Exam"
   ]
  },
  {
   "cell_type": "markdown",
   "metadata": {},
   "source": [
    "** 1. Import the random module **"
   ]
  },
  {
   "cell_type": "code",
   "execution_count": 7,
   "metadata": {},
   "outputs": [],
   "source": [
    "import random"
   ]
  },
  {
   "cell_type": "markdown",
   "metadata": {},
   "source": [
    "** 2. Generate a random number between 1 and 50 including both **"
   ]
  },
  {
   "cell_type": "code",
   "execution_count": 8,
   "metadata": {},
   "outputs": [
    {
     "data": {
      "text/plain": [
       "39"
      ]
     },
     "execution_count": 8,
     "metadata": {},
     "output_type": "execute_result"
    }
   ],
   "source": [
    "a = random.randint(0,50)\n",
    "a"
   ]
  },
  {
   "cell_type": "markdown",
   "metadata": {},
   "source": [
    "** 3. Check if the number is Even or Odd and print \"Even/Odd\" **"
   ]
  },
  {
   "cell_type": "code",
   "execution_count": 9,
   "metadata": {},
   "outputs": [
    {
     "name": "stdout",
     "output_type": "stream",
     "text": [
      "Odd\n"
     ]
    }
   ],
   "source": [
    "if a % 2 == 0:\n",
    "    print(\"Even\")\n",
    "else:\n",
    "    print(\"Odd\")"
   ]
  },
  {
   "cell_type": "markdown",
   "metadata": {},
   "source": [
    "** 4. Make a list of 10 random numbers between -15 and 15 including both **"
   ]
  },
  {
   "cell_type": "code",
   "execution_count": 10,
   "metadata": {},
   "outputs": [
    {
     "data": {
      "text/plain": [
       "[8, -9, 12, -8, -12, 2, -4, 5, -15, 11]"
      ]
     },
     "execution_count": 10,
     "metadata": {},
     "output_type": "execute_result"
    }
   ],
   "source": [
    "b = [random.randint(-15, 15) for i in range(10)]\n",
    "b"
   ]
  },
  {
   "cell_type": "markdown",
   "metadata": {},
   "source": [
    "**5. Find the average of the list**"
   ]
  },
  {
   "cell_type": "code",
   "execution_count": 11,
   "metadata": {},
   "outputs": [
    {
     "data": {
      "text/plain": [
       "-1.0"
      ]
     },
     "execution_count": 11,
     "metadata": {},
     "output_type": "execute_result"
    }
   ],
   "source": [
    "avg_b = sum(b) / len(b)\n",
    "avg_b"
   ]
  },
  {
   "cell_type": "markdown",
   "metadata": {},
   "source": [
    "** 6. Store all the negative numbers in a new list **"
   ]
  },
  {
   "cell_type": "code",
   "execution_count": 12,
   "metadata": {},
   "outputs": [
    {
     "name": "stdout",
     "output_type": "stream",
     "text": [
      "[-9, -8, -12, -4, -15]\n"
     ]
    }
   ],
   "source": [
    "new_list = []\n",
    "\n",
    "for i in range(10):\n",
    "    if b[i] < 0:\n",
    "        new_list.append(b[i])\n",
    "\n",
    "print(new_list)"
   ]
  },
  {
   "cell_type": "markdown",
   "metadata": {},
   "source": [
    "**7. Define a function that takes two lists and returns True if they have at least one common member. **"
   ]
  },
  {
   "cell_type": "code",
   "execution_count": 13,
   "metadata": {},
   "outputs": [
    {
     "name": "stdout",
     "output_type": "stream",
     "text": [
      "[4, 4, 3, 1, 9, 6, 6, 7, 1, 11]\n",
      "[21, 16, 11, 23, 13]\n",
      "True\n"
     ]
    }
   ],
   "source": [
    "c = [random.randint(0, 15) for i in range(10)]\n",
    "d = [random.randint(10, 30) for i in range(5)]\n",
    "\n",
    "def common(c, d):\n",
    "    for i in c:\n",
    "        for j in d:\n",
    "            if i == j:\n",
    "                return True\n",
    "    return False\n",
    "            \n",
    "print(c)\n",
    "print(d)\n",
    "print(common(c, d))"
   ]
  },
  {
   "cell_type": "markdown",
   "metadata": {},
   "source": [
    "**8. Define a function that gets a sentence(string) and returns the longest word of that sentence.**"
   ]
  },
  {
   "cell_type": "code",
   "execution_count": 14,
   "metadata": {},
   "outputs": [
    {
     "name": "stdout",
     "output_type": "stream",
     "text": [
      "['Define', 'a', 'function', 'that', 'gets', 'a', 'sentence', 'string', 'and', 'returns', 'the', 'longest', 'word', 'of', 'that', 'sentence']\n"
     ]
    },
    {
     "data": {
      "text/plain": [
       "'function'"
      ]
     },
     "execution_count": 14,
     "metadata": {},
     "output_type": "execute_result"
    }
   ],
   "source": [
    "sentence = \"Define a function that gets a sentence (string) and returns the longest word of that sentence\"\n",
    "special_characters = \",.!';:-=?)(*&^%$#][\"\n",
    "\n",
    "for s in sentence:\n",
    "    for c in special_characters:\n",
    "        sentence = sentence.replace(c, \"\")\n",
    "\n",
    "sentence_new = sentence.split(\" \")\n",
    "print(sentence_new)\n",
    "\n",
    "def find_longest_word(a):\n",
    "    longest_word = ''\n",
    "    for word in a:\n",
    "        if len(word) > len(longest_word):\n",
    "            longest_word = word\n",
    "    return longest_word\n",
    "\n",
    "find_longest_word(sentence_new)\n"
   ]
  },
  {
   "cell_type": "markdown",
   "metadata": {},
   "source": [
    "** 9. We have the following two dictionaries (d1 and d2), combine two dictionary adding values for common keys.**\n",
    "```Python`\n",
    "d1 = {'a': 100, 'b': 200, 'c':300}\n",
    "d2 = {'a': 300, 'b': 200, 'd':400}\n",
    "output: {'a': 400, 'b': 400, 'd': 400, 'c': 300}```"
   ]
  },
  {
   "cell_type": "code",
   "execution_count": 4,
   "metadata": {},
   "outputs": [
    {
     "name": "stdout",
     "output_type": "stream",
     "text": [
      "Output: {'a': 400, 'b': 400, 'c': 300, 'd': 400}\n"
     ]
    },
    {
     "data": {
      "text/plain": [
       "{'a': 300, 'b': 200, 'd': 400}"
      ]
     },
     "execution_count": 4,
     "metadata": {},
     "output_type": "execute_result"
    }
   ],
   "source": [
    "d1 = {'a': 100, 'b': 200, 'c':300}\n",
    "d2 = {'a': 300, 'b': 200, 'd':400}\n",
    "\n",
    "output = {}\n",
    "for i,j in d1.items():\n",
    "    if i in d2.keys():\n",
    "        output[i] = d1[i] + d2[i]\n",
    "    else:\n",
    "        output[i] = d1[i]\n",
    "for i,j in d2.items():\n",
    "    if i not in d1.keys():\n",
    "        output[i] =  d2[i]\n",
    "\n",
    "print(f\"Output: {output}\")\n",
    "\n",
    "d2"
   ]
  },
  {
   "cell_type": "code",
   "execution_count": 6,
   "metadata": {},
   "outputs": [
    {
     "data": {
      "text/plain": [
       "{'a': 400, 'b': 400, 'c': 300, 'd': 400}"
      ]
     },
     "execution_count": 6,
     "metadata": {},
     "output_type": "execute_result"
    }
   ],
   "source": [
    "d1 = {'a': 100, 'b': 200, 'c':300}\n",
    "d2 = {'a': 300, 'b': 200, 'd':400}\n",
    "\n",
    "def combine(dict1, dict2):\n",
    "    out = {}\n",
    "    for k1 in dict1.keys():\n",
    "        out[k1] = dict1[k1] + out.get(k1, 0)\n",
    "        \n",
    "    for k2 in dict2.keys():\n",
    "        out[k2] = dict2[k2] + out.get(k2, 0)\n",
    "    \n",
    "    return out\n",
    "\n",
    "combine(d1, d2)\n"
   ]
  },
  {
   "cell_type": "markdown",
   "metadata": {},
   "source": [
    "** 10. Counts how many times the word \"Romeo\" and the word \"Juliet\" has been mentioned in 'romeo_juliet.txt' **"
   ]
  },
  {
   "cell_type": "code",
   "execution_count": 16,
   "metadata": {},
   "outputs": [
    {
     "name": "stdout",
     "output_type": "stream",
     "text": [
      "Romeo has been mentioned 61 times\n",
      "Juliet has been mentioned 24 times\n"
     ]
    }
   ],
   "source": [
    "Romeo = 0\n",
    "with open(\"romeo_juliet.txt\") as f:\n",
    "    for line in f.readlines():\n",
    "        Romeo += line.title().count(\"Romeo\")\n",
    "\n",
    "print(f\"Romeo has been mentioned {Romeo} times\")\n",
    "\n",
    "Juliet = 0\n",
    "with open(\"romeo_juliet.txt\") as f:\n",
    "    for line in f.readlines():\n",
    "        Juliet += line.title().count(\"Juliet\")\n",
    "\n",
    "print(f\"Juliet has been mentioned {Juliet} times\")"
   ]
  }
 ],
 "metadata": {
  "kernelspec": {
   "display_name": "Python 3",
   "language": "python",
   "name": "python3"
  },
  "language_info": {
   "codemirror_mode": {
    "name": "ipython",
    "version": 3
   },
   "file_extension": ".py",
   "mimetype": "text/x-python",
   "name": "python",
   "nbconvert_exporter": "python",
   "pygments_lexer": "ipython3",
   "version": "3.7.0"
  }
 },
 "nbformat": 4,
 "nbformat_minor": 2
}
