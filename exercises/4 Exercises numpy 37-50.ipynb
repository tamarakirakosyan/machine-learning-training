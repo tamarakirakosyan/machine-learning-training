{
 "cells": [
  {
   "cell_type": "markdown",
   "metadata": {},
   "source": [
    "# 37. Write a Python program to generate five random numbers from the normal distribution."
   ]
  },
  {
   "cell_type": "code",
   "execution_count": 1,
   "metadata": {},
   "outputs": [],
   "source": [
    "import numpy as np"
   ]
  },
  {
   "cell_type": "code",
   "execution_count": 3,
   "metadata": {},
   "outputs": [
    {
     "data": {
      "text/plain": [
       "array([ 1.04759295, -0.89615659, -0.71100538,  0.27481745, -0.72230042])"
      ]
     },
     "execution_count": 3,
     "metadata": {},
     "output_type": "execute_result"
    }
   ],
   "source": [
    "np.random.normal(0, 1, 5)"
   ]
  },
  {
   "cell_type": "markdown",
   "metadata": {},
   "source": [
    "# 38. Write a Python program to generate six random integers between 10 and 30."
   ]
  },
  {
   "cell_type": "code",
   "execution_count": 10,
   "metadata": {},
   "outputs": [
    {
     "name": "stderr",
     "output_type": "stream",
     "text": [
      "C:\\Users\\tamar\\Anaconda3\\lib\\site-packages\\ipykernel_launcher.py:1: DeprecationWarning: This function is deprecated. Please call randint(10, 30 + 1) instead\n",
      "  \"\"\"Entry point for launching an IPython kernel.\n"
     ]
    },
    {
     "data": {
      "text/plain": [
       "array([24, 18, 22, 14, 30, 20])"
      ]
     },
     "execution_count": 10,
     "metadata": {},
     "output_type": "execute_result"
    }
   ],
   "source": [
    "np.random.random_integers(10, 30, 6)"
   ]
  },
  {
   "cell_type": "markdown",
   "metadata": {},
   "source": [
    "# 39. Write a Python program to create a 3x4x5 array with random values."
   ]
  },
  {
   "cell_type": "code",
   "execution_count": 11,
   "metadata": {},
   "outputs": [
    {
     "data": {
      "text/plain": [
       "array([[[0.28605756, 0.2102198 , 0.2444132 , 0.17939282, 0.59434978],\n",
       "        [0.47379495, 0.27493949, 0.30137383, 0.95439184, 0.11360574],\n",
       "        [0.69407608, 0.48292404, 0.92513513, 0.49819389, 0.72056242],\n",
       "        [0.71428725, 0.43208832, 0.38818798, 0.2750525 , 0.76080424]],\n",
       "\n",
       "       [[0.60340968, 0.18525484, 0.05933138, 0.83413181, 0.80282001],\n",
       "        [0.64497611, 0.41897255, 0.61360717, 0.3364997 , 0.25812703],\n",
       "        [0.14161155, 0.45410491, 0.96907482, 0.24774843, 0.72046205],\n",
       "        [0.5061068 , 0.71811382, 0.05246436, 0.04636127, 0.81876834]],\n",
       "\n",
       "       [[0.3978037 , 0.38656103, 0.93077476, 0.04750903, 0.59386435],\n",
       "        [0.76149532, 0.69528997, 0.73293149, 0.49301739, 0.10268111],\n",
       "        [0.03459796, 0.0320521 , 0.4985204 , 0.05343719, 0.41904954],\n",
       "        [0.4323727 , 0.12547126, 0.40831498, 0.70171428, 0.14266433]]])"
      ]
     },
     "execution_count": 11,
     "metadata": {},
     "output_type": "execute_result"
    }
   ],
   "source": [
    "np.random.rand(3, 4, 5)"
   ]
  },
  {
   "cell_type": "markdown",
   "metadata": {},
   "source": [
    "# 40. Write a Python program to create a 5x5 array with random values and find the minimum and maximum values. "
   ]
  },
  {
   "cell_type": "code",
   "execution_count": 15,
   "metadata": {},
   "outputs": [
    {
     "name": "stdout",
     "output_type": "stream",
     "text": [
      "[[0.66974257 0.1464206  0.87692587 0.69830245 0.57783865]\n",
      " [0.1875579  0.22072084 0.86779068 0.93674359 0.16246309]\n",
      " [0.19450785 0.45825312 0.43380793 0.86679966 0.97755371]\n",
      " [0.58346755 0.41012634 0.94871868 0.14256694 0.88278727]\n",
      " [0.06404575 0.82456602 0.65784631 0.70691794 0.08303203]]\n"
     ]
    },
    {
     "data": {
      "text/plain": [
       "(0.0640457544723737, 0.9775537079419657)"
      ]
     },
     "execution_count": 15,
     "metadata": {},
     "output_type": "execute_result"
    }
   ],
   "source": [
    "a = np.random.rand(5,5)\n",
    "print(a)\n",
    "a.min(), a.max()"
   ]
  },
  {
   "cell_type": "markdown",
   "metadata": {},
   "source": [
    "# 41. Write a Python program to create a random 10x4 array and extract the first five rows of the array and store them into a variable."
   ]
  },
  {
   "cell_type": "code",
   "execution_count": 21,
   "metadata": {},
   "outputs": [
    {
     "name": "stdout",
     "output_type": "stream",
     "text": [
      "[[0.23426556 0.9011936  0.12496395 0.616231  ]\n",
      " [0.76575638 0.49290061 0.37339586 0.16108988]\n",
      " [0.08430325 0.4693554  0.45604969 0.33538372]\n",
      " [0.57887954 0.13439208 0.71763741 0.8463492 ]\n",
      " [0.10619273 0.26580564 0.9949984  0.08080342]\n",
      " [0.76006233 0.32353792 0.22775909 0.00394182]\n",
      " [0.31685017 0.82522646 0.23887399 0.1188763 ]\n",
      " [0.94906757 0.76097588 0.79626079 0.7287017 ]\n",
      " [0.02283368 0.14049607 0.183006   0.76788115]\n",
      " [0.35043463 0.62803395 0.71184428 0.2462782 ]]\n"
     ]
    },
    {
     "data": {
      "text/plain": [
       "array([[0.23426556, 0.9011936 , 0.12496395, 0.616231  ],\n",
       "       [0.76575638, 0.49290061, 0.37339586, 0.16108988],\n",
       "       [0.08430325, 0.4693554 , 0.45604969, 0.33538372],\n",
       "       [0.57887954, 0.13439208, 0.71763741, 0.8463492 ],\n",
       "       [0.10619273, 0.26580564, 0.9949984 , 0.08080342]])"
      ]
     },
     "execution_count": 21,
     "metadata": {},
     "output_type": "execute_result"
    }
   ],
   "source": [
    "a = np.random.rand(10, 4)\n",
    "print(a)\n",
    "b = a[:5,:]\n",
    "b"
   ]
  },
  {
   "cell_type": "markdown",
   "metadata": {},
   "source": [
    "# 42. Write a Python program to shuffle numbers between 0 and 10 (inclusive)."
   ]
  },
  {
   "cell_type": "code",
   "execution_count": 39,
   "metadata": {},
   "outputs": [
    {
     "name": "stdout",
     "output_type": "stream",
     "text": [
      "[ 5  9  4 10  7  8  0  1  6  2  3]\n"
     ]
    }
   ],
   "source": [
    "a = np.arange(0,11)\n",
    "np.random.shuffle(a)\n",
    "print(a)"
   ]
  },
  {
   "cell_type": "markdown",
   "metadata": {},
   "source": [
    "# 43. Write a Python program to normalize a 3x3 random matrix. "
   ]
  },
  {
   "cell_type": "code",
   "execution_count": 43,
   "metadata": {},
   "outputs": [
    {
     "data": {
      "text/plain": [
       "array([[0.49252286, 0.60670128, 0.60056951],\n",
       "       [0.72164016, 0.04593849, 0.        ],\n",
       "       [0.57878186, 1.        , 0.0665747 ]])"
      ]
     },
     "execution_count": 43,
     "metadata": {},
     "output_type": "execute_result"
    }
   ],
   "source": [
    "a = np.random.rand(3,3)\n",
    "amin = a.min()\n",
    "amax = a.max()\n",
    "b = (a - amin) / (amax - amin)\n",
    "b"
   ]
  },
  {
   "cell_type": "markdown",
   "metadata": {},
   "source": [
    "# 44. Write a Python program to create a random vector of size 10 and sort it."
   ]
  },
  {
   "cell_type": "code",
   "execution_count": 45,
   "metadata": {},
   "outputs": [
    {
     "data": {
      "text/plain": [
       "array([0.02816264, 0.09912181, 0.35155289, 0.38338401, 0.49793456,\n",
       "       0.50816455, 0.53599906, 0.64450526, 0.65150276, 0.75718784])"
      ]
     },
     "execution_count": 45,
     "metadata": {},
     "output_type": "execute_result"
    }
   ],
   "source": [
    "a = np.random.random(10)\n",
    "a.sort()\n",
    "a"
   ]
  },
  {
   "cell_type": "markdown",
   "metadata": {},
   "source": [
    "# 45. Write a Python program to find the nearest value from a given value in an array."
   ]
  },
  {
   "cell_type": "code",
   "execution_count": 60,
   "metadata": {},
   "outputs": [
    {
     "name": "stdout",
     "output_type": "stream",
     "text": [
      "[ 8 10  1  5  0  7  9  3  2  4  6]\n",
      "6\n"
     ]
    }
   ],
   "source": [
    "a = np.arange(0,11)\n",
    "np.random.shuffle(a)\n",
    "print(a)\n",
    "v = 8.7\n",
    "b = np.abs(a - v).argmin()\n",
    "print(b)"
   ]
  },
  {
   "cell_type": "markdown",
   "metadata": {},
   "source": [
    "# 46. Write a Python program to check two random arrays are equal or not."
   ]
  },
  {
   "cell_type": "code",
   "execution_count": 66,
   "metadata": {},
   "outputs": [
    {
     "name": "stdout",
     "output_type": "stream",
     "text": [
      "[0.06690668 0.27096592 0.46794969 0.52219168 0.70733664]\n",
      "[0.3906386  0.5050908  0.59920302 0.64892143 0.74921111]\n"
     ]
    },
    {
     "data": {
      "text/plain": [
       "array([False, False, False, False, False])"
      ]
     },
     "execution_count": 66,
     "metadata": {},
     "output_type": "execute_result"
    }
   ],
   "source": [
    "a = np.random.random(5)\n",
    "b = np.random.random(5)\n",
    "a.sort()\n",
    "b.sort()\n",
    "print(a)\n",
    "print(b)\n",
    "np.equal(a,b)"
   ]
  },
  {
   "cell_type": "markdown",
   "metadata": {},
   "source": [
    "# 47. Write a Python program to create random vector of size 15 and replace the maximum value by -1. "
   ]
  },
  {
   "cell_type": "code",
   "execution_count": 72,
   "metadata": {},
   "outputs": [
    {
     "name": "stdout",
     "output_type": "stream",
     "text": [
      "[0.87019653 0.22964053 0.36051752 0.43434198 0.60743157 0.40123545\n",
      " 0.78800739 0.35123585 0.44335305 0.75053446 0.47753557 0.99900729\n",
      " 0.32716588 0.04605178 0.80845525]\n"
     ]
    },
    {
     "data": {
      "text/plain": [
       "array([ 0.87019653,  0.22964053,  0.36051752,  0.43434198,  0.60743157,\n",
       "        0.40123545,  0.78800739,  0.35123585,  0.44335305,  0.75053446,\n",
       "        0.47753557, -1.        ,  0.32716588,  0.04605178,  0.80845525])"
      ]
     },
     "execution_count": 72,
     "metadata": {},
     "output_type": "execute_result"
    }
   ],
   "source": [
    "a = np.random.random(15)\n",
    "print(a)\n",
    "a[np.argmax(a)] = -1\n",
    "a"
   ]
  },
  {
   "cell_type": "markdown",
   "metadata": {},
   "source": [
    "# 48. Write a Python program to get the n largest values of an array."
   ]
  },
  {
   "cell_type": "code",
   "execution_count": 76,
   "metadata": {},
   "outputs": [
    {
     "name": "stdout",
     "output_type": "stream",
     "text": [
      "[0.9169942  0.33598817 0.56942961 0.17092216 0.6505809  0.62286411\n",
      " 0.61483793 0.77675801 0.57755466 0.23695952 0.05468855 0.49943007\n",
      " 0.37100081 0.48785327 0.44539317]\n"
     ]
    },
    {
     "data": {
      "text/plain": [
       "array([0.56942961, 0.57755466, 0.61483793, 0.62286411, 0.6505809 ,\n",
       "       0.77675801, 0.9169942 ])"
      ]
     },
     "execution_count": 76,
     "metadata": {},
     "output_type": "execute_result"
    }
   ],
   "source": [
    "a = np.random.random(15)\n",
    "print(a)\n",
    "a.sort()\n",
    "b = a[8:]\n",
    "b"
   ]
  },
  {
   "cell_type": "markdown",
   "metadata": {},
   "source": [
    "# 49. Write a Python program to find the most frequent value in an array. "
   ]
  },
  {
   "cell_type": "code",
   "execution_count": 86,
   "metadata": {},
   "outputs": [
    {
     "name": "stdout",
     "output_type": "stream",
     "text": [
      "[4 3 4 4 3 3 2 3 3 3 2 3 1 3 2 1 3 2 4 2]\n",
      "3\n"
     ]
    }
   ],
   "source": [
    "a = np.random.randint(1, 5, 20)\n",
    "print(a)\n",
    "b = np.bincount(a).argmax()\n",
    "print(b)"
   ]
  },
  {
   "cell_type": "code",
   "execution_count": null,
   "metadata": {},
   "outputs": [],
   "source": []
  },
  {
   "cell_type": "code",
   "execution_count": null,
   "metadata": {},
   "outputs": [],
   "source": []
  },
  {
   "cell_type": "code",
   "execution_count": null,
   "metadata": {},
   "outputs": [],
   "source": []
  },
  {
   "cell_type": "code",
   "execution_count": null,
   "metadata": {},
   "outputs": [],
   "source": []
  },
  {
   "cell_type": "code",
   "execution_count": null,
   "metadata": {},
   "outputs": [],
   "source": []
  },
  {
   "cell_type": "code",
   "execution_count": null,
   "metadata": {},
   "outputs": [],
   "source": []
  },
  {
   "cell_type": "code",
   "execution_count": null,
   "metadata": {},
   "outputs": [],
   "source": []
  },
  {
   "cell_type": "code",
   "execution_count": null,
   "metadata": {},
   "outputs": [],
   "source": []
  },
  {
   "cell_type": "code",
   "execution_count": null,
   "metadata": {},
   "outputs": [],
   "source": []
  },
  {
   "cell_type": "code",
   "execution_count": null,
   "metadata": {},
   "outputs": [],
   "source": []
  },
  {
   "cell_type": "code",
   "execution_count": null,
   "metadata": {},
   "outputs": [],
   "source": []
  }
 ],
 "metadata": {
  "kernelspec": {
   "display_name": "Python 3",
   "language": "python",
   "name": "python3"
  },
  "language_info": {
   "codemirror_mode": {
    "name": "ipython",
    "version": 3
   },
   "file_extension": ".py",
   "mimetype": "text/x-python",
   "name": "python",
   "nbconvert_exporter": "python",
   "pygments_lexer": "ipython3",
   "version": "3.7.0"
  }
 },
 "nbformat": 4,
 "nbformat_minor": 2
}
