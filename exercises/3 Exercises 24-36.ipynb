{
 "cells": [
  {
   "cell_type": "markdown",
   "metadata": {},
   "source": [
    "# 24. Write a program that outputs the number of lines in a text file."
   ]
  },
  {
   "cell_type": "code",
   "execution_count": 2,
   "metadata": {},
   "outputs": [
    {
     "name": "stdout",
     "output_type": "stream",
     "text": [
      "The file romeo_juliet.txt has 1290 lines!\n"
     ]
    }
   ],
   "source": [
    "file_name = \"romeo_juliet.txt\"\n",
    "\n",
    "with open(file_name) as f:\n",
    "    num_lines = len(f.readlines())\n",
    "\n",
    "print(f\"The file {file_name} has {num_lines} lines!\")\n"
   ]
  },
  {
   "cell_type": "markdown",
   "metadata": {},
   "source": [
    "# 25. Write a program that prints an specific line of a file. for example line number 25"
   ]
  },
  {
   "cell_type": "code",
   "execution_count": 3,
   "metadata": {},
   "outputs": [
    {
     "name": "stdout",
     "output_type": "stream",
     "text": [
      "Which line do you want to read? 25\n",
      "I mean, an we be in choler, we'll draw.\n",
      "\n"
     ]
    }
   ],
   "source": [
    "file_name = \"romeo_juliet.txt\"\n",
    "\n",
    "line_n = int(input(\"Which line do you want to read? \"))\n",
    "\n",
    "with open(file_name) as f:\n",
    "    print(f.readlines()[line_n])"
   ]
  },
  {
   "cell_type": "markdown",
   "metadata": {},
   "source": [
    "# 26. Write a program that prints the lines that start with 'From:'. from mbox.txt"
   ]
  },
  {
   "cell_type": "code",
   "execution_count": 4,
   "metadata": {},
   "outputs": [
    {
     "name": "stdout",
     "output_type": "stream",
     "text": [
      "From: stephen.marquard@uct.ac.za\n",
      "From: louis@media.berkeley.edu\n",
      "From: zqian@umich.edu\n",
      "From: rjlowe@iupui.edu\n",
      "From: zqian@umich.edu\n",
      "From: rjlowe@iupui.edu\n",
      "From: cwen@iupui.edu\n",
      "From: cwen@iupui.edu\n",
      "From: gsilver@umich.edu\n",
      "From: gsilver@umich.edu\n",
      "From: zqian@umich.edu\n",
      "From: gsilver@umich.edu\n",
      "From: wagnermr@iupui.edu\n",
      "From: zqian@umich.edu\n",
      "From: antranig@caret.cam.ac.uk\n",
      "From: gopal.ramasammycook@gmail.com\n",
      "From: david.horwitz@uct.ac.za\n",
      "From: david.horwitz@uct.ac.za\n",
      "From: david.horwitz@uct.ac.za\n",
      "From: david.horwitz@uct.ac.za\n",
      "From: stephen.marquard@uct.ac.za\n",
      "From: louis@media.berkeley.edu\n",
      "From: louis@media.berkeley.edu\n",
      "From: ray@media.berkeley.edu\n",
      "From: cwen@iupui.edu\n",
      "From: cwen@iupui.edu\n",
      "From: cwen@iupui.edu\n"
     ]
    }
   ],
   "source": [
    "file_name = 'mbox-short.txt'\n",
    "\n",
    "with open(file_name, 'r') as f:\n",
    "    for line in f:\n",
    "        if line.startswith('From:'):\n",
    "            print(line.strip())"
   ]
  },
  {
   "cell_type": "markdown",
   "metadata": {},
   "source": [
    "# 27. Write a program that prints lines that have '@uct.ac.za' in them. (Hint: use .find() method) from mbox.txt"
   ]
  },
  {
   "cell_type": "code",
   "execution_count": 5,
   "metadata": {},
   "outputs": [
    {
     "name": "stdout",
     "output_type": "stream",
     "text": [
      "From stephen.marquard@uct.ac.za Sat Jan  5 09:14:16 2008\n",
      "X-Authentication-Warning: nakamura.uits.iupui.edu: apache set sender to stephen.marquard@uct.ac.za using -f\n",
      "From: stephen.marquard@uct.ac.za\n",
      "Author: stephen.marquard@uct.ac.za\n",
      "From david.horwitz@uct.ac.za Fri Jan  4 07:02:32 2008\n",
      "X-Authentication-Warning: nakamura.uits.iupui.edu: apache set sender to david.horwitz@uct.ac.za using -f\n",
      "From: david.horwitz@uct.ac.za\n",
      "Author: david.horwitz@uct.ac.za\n",
      "r39753 | david.horwitz@uct.ac.za | 2008-01-04 13:05:51 +0200 (Fri, 04 Jan 2008) | 1 line\n",
      "From david.horwitz@uct.ac.za Fri Jan  4 06:08:27 2008\n",
      "X-Authentication-Warning: nakamura.uits.iupui.edu: apache set sender to david.horwitz@uct.ac.za using -f\n",
      "From: david.horwitz@uct.ac.za\n",
      "Author: david.horwitz@uct.ac.za\n",
      "From david.horwitz@uct.ac.za Fri Jan  4 04:49:08 2008\n",
      "X-Authentication-Warning: nakamura.uits.iupui.edu: apache set sender to david.horwitz@uct.ac.za using -f\n",
      "From: david.horwitz@uct.ac.za\n",
      "Author: david.horwitz@uct.ac.za\n",
      "From david.horwitz@uct.ac.za Fri Jan  4 04:33:44 2008\n",
      "X-Authentication-Warning: nakamura.uits.iupui.edu: apache set sender to david.horwitz@uct.ac.za using -f\n",
      "From: david.horwitz@uct.ac.za\n",
      "Author: david.horwitz@uct.ac.za\n",
      "From stephen.marquard@uct.ac.za Fri Jan  4 04:07:34 2008\n",
      "X-Authentication-Warning: nakamura.uits.iupui.edu: apache set sender to stephen.marquard@uct.ac.za using -f\n",
      "From: stephen.marquard@uct.ac.za\n",
      "Author: stephen.marquard@uct.ac.za\n"
     ]
    }
   ],
   "source": [
    "file_name = 'mbox-short.txt'\n",
    "\n",
    "with open(file_name, 'r') as f:\n",
    "    for line in f:\n",
    "        index = line.find('@uct.ac.za') #.find() returns the index if it finds and turns -1 if it doesnt\n",
    "        if index == -1:\n",
    "            continue # I didn't find the text\n",
    "        else:\n",
    "            print(line.strip())"
   ]
  },
  {
   "cell_type": "markdown",
   "metadata": {},
   "source": [
    "# 28. Write a program that counts number of lines that start with 'Subject:' from mbox.txt"
   ]
  },
  {
   "cell_type": "code",
   "execution_count": 6,
   "metadata": {},
   "outputs": [
    {
     "name": "stdout",
     "output_type": "stream",
     "text": [
      "The file mbox-short.txt has 27 lines that starts with `Subject:`.\n"
     ]
    }
   ],
   "source": [
    "file_name = 'mbox-short.txt'\n",
    "\n",
    "count = 0\n",
    "\n",
    "with open(file_name, 'r') as f:\n",
    "    for line in f:\n",
    "        if line.startswith('Subject: '):\n",
    "            count += 1\n",
    "            \n",
    "print(f\"The file {file_name} has {count} lines that starts with `Subject:`.\")"
   ]
  },
  {
   "cell_type": "markdown",
   "metadata": {},
   "source": [
    "# 29. Write a program that counts number of words of a file."
   ]
  },
  {
   "cell_type": "code",
   "execution_count": 7,
   "metadata": {},
   "outputs": [
    {
     "name": "stdout",
     "output_type": "stream",
     "text": [
      "The file mbox-short.txt has 8663 words.\n"
     ]
    }
   ],
   "source": [
    "file_name = 'mbox-short.txt'\n",
    "\n",
    "num_words = 0\n",
    "\n",
    "with open(file_name, 'r') as f:\n",
    "    for line in f:\n",
    "        line = line.strip()\n",
    "        for word in line.split(' '):\n",
    "            num_words += 1\n",
    "            \n",
    "print(f\"The file {file_name} has {num_words} words.\")"
   ]
  },
  {
   "cell_type": "markdown",
   "metadata": {},
   "source": [
    "# 30. Find all the emails in lines that start with 'From:' and store them in a new file."
   ]
  },
  {
   "cell_type": "code",
   "execution_count": 9,
   "metadata": {},
   "outputs": [],
   "source": [
    "file_name = 'mbox-short.txt'\n",
    "\n",
    "emails = []\n",
    "\n",
    "with open(file_name, 'r') as f:\n",
    "    for line in f:\n",
    "        if line.startswith('From: '):\n",
    "            words = line.split(' ')\n",
    "            # print(words)\n",
    "            emails.append(words[1].strip())\n",
    "            \n",
    "with open(\"Emails.txt\", \"w+\") as f:\n",
    "    f.write(\"\\n\".join(emails))"
   ]
  },
  {
   "cell_type": "markdown",
   "metadata": {},
   "source": [
    "# 31. Make an Employee class.\n",
    "Attributes:\n",
    "\n",
    "    first_name\n",
    "    last_name\n",
    "    age\n",
    "    email\n",
    "    salary\n",
    "Methods:\n",
    "\n",
    "    full_name() #returns the full name of the employee in title format\n",
    "    describe() #returns a string with all the information of the employee\n",
    "    get_gross_salary(tax) #gets the taxation rate and returns the gross salary of the employee"
   ]
  },
  {
   "cell_type": "code",
   "execution_count": 10,
   "metadata": {},
   "outputs": [],
   "source": [
    "class Employee:\n",
    "    def __init__(self, name, surname, age, email, salary):\n",
    "        self.name = name.title()\n",
    "        self.surname = surname.title()\n",
    "        self.age = age\n",
    "        self.email = email\n",
    "        self.salary = salary\n",
    "    \n",
    "    def full_name(self):\n",
    "        return f\"{self.name} {self.surname}\"\n",
    "    \n",
    "    def describe(self):\n",
    "        temp = f\"Name: {self.name}\\n\"\n",
    "        temp += f\"Surname: {self.surname}\\n\"\n",
    "        temp += f\"Age: {self.age} years old\\n\"\n",
    "        temp += f\"Salary: ${self.salary}\\n\"\n",
    "        temp += f\"Email: {self.email}\"\n",
    "        return temp\n",
    "        \n",
    "        \n",
    "    def gross_salary(self, tax = 0.2):\n",
    "        return self.salary / (1 - tax)\n",
    "    "
   ]
  },
  {
   "cell_type": "markdown",
   "metadata": {},
   "source": [
    "# 32. Make a Rectangle class.\n",
    "Attributes:\n",
    "\n",
    "    width\n",
    "    height\n",
    "    name\n",
    "Methods:\n",
    "\n",
    "    get_area()\n",
    "    get_perimeter()\n",
    "    is_square() #returns True if this rectangle is square and False if it isn't"
   ]
  },
  {
   "cell_type": "code",
   "execution_count": 18,
   "metadata": {},
   "outputs": [],
   "source": [
    "class Rectangle:\n",
    "    \n",
    "    def __init__(self, width, height, name):\n",
    "        self.width = width\n",
    "        self.height = height\n",
    "        self.name = name\n",
    "        \n",
    "    def get_area(self):\n",
    "        return serf.width * self.height\n",
    "    \n",
    "    def get_perimeter(self):\n",
    "        return (self.width + self.height) * 2\n",
    "    \n",
    "    def is_square(self):\n",
    "        if self.width == self.height:\n",
    "            return True\n",
    "        else:\n",
    "            return False\n",
    "\n",
    "    "
   ]
  },
  {
   "cell_type": "markdown",
   "metadata": {},
   "source": [
    "# 33. Make a Car class.\n",
    "Attributes:\n",
    "\n",
    "    brand\n",
    "    model\n",
    "    year\n",
    "    odometer = 0 #odometer shows how many km the car has traveled and starts from 0\n",
    "Methods:\n",
    "\n",
    "    describe()\n",
    "    read_odometer() # returns a formatted string that says \"This car has 'distance' km on it.\"\n",
    "    inrease_odometer(distance) # update the odometer attribute by 'distance' amount, and if 'distance' is negative print out \"you can't roll back the odometer\""
   ]
  },
  {
   "cell_type": "code",
   "execution_count": null,
   "metadata": {},
   "outputs": [],
   "source": [
    "class Car:\n",
    "    \n",
    "    def __init__(self, brand, model, year, odometer = 0):\n",
    "        self.brand = brand\n",
    "        self.model = model\n",
    "        self.year = year"
   ]
  },
  {
   "cell_type": "code",
   "execution_count": null,
   "metadata": {},
   "outputs": [],
   "source": []
  },
  {
   "cell_type": "code",
   "execution_count": null,
   "metadata": {},
   "outputs": [],
   "source": []
  },
  {
   "cell_type": "code",
   "execution_count": null,
   "metadata": {},
   "outputs": [],
   "source": []
  },
  {
   "cell_type": "code",
   "execution_count": null,
   "metadata": {},
   "outputs": [],
   "source": []
  },
  {
   "cell_type": "code",
   "execution_count": null,
   "metadata": {},
   "outputs": [],
   "source": []
  },
  {
   "cell_type": "code",
   "execution_count": null,
   "metadata": {},
   "outputs": [],
   "source": []
  },
  {
   "cell_type": "code",
   "execution_count": null,
   "metadata": {},
   "outputs": [],
   "source": []
  },
  {
   "cell_type": "code",
   "execution_count": null,
   "metadata": {},
   "outputs": [],
   "source": []
  }
 ],
 "metadata": {
  "kernelspec": {
   "display_name": "Python 3",
   "language": "python",
   "name": "python3"
  },
  "language_info": {
   "codemirror_mode": {
    "name": "ipython",
    "version": 3
   },
   "file_extension": ".py",
   "mimetype": "text/x-python",
   "name": "python",
   "nbconvert_exporter": "python",
   "pygments_lexer": "ipython3",
   "version": "3.7.0"
  }
 },
 "nbformat": 4,
 "nbformat_minor": 2
}
