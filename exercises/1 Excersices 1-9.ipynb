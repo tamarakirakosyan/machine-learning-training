{
 "cells": [
  {
   "cell_type": "markdown",
   "metadata": {},
   "source": [
    "# 1. Write a program to get the 'Height' and 'Width' of a Rectangle and outputs the Area and Perimeter. \n",
    "Internally save the value of Area and Perimeter in different variables."
   ]
  },
  {
   "cell_type": "code",
   "execution_count": 5,
   "metadata": {},
   "outputs": [
    {
     "name": "stdin",
     "output_type": "stream",
     "text": [
      "Please enter a height of a rectangle 10\n",
      "Please enter a width of a rectangle 5\n"
     ]
    },
    {
     "name": "stdout",
     "output_type": "stream",
     "text": [
      "The area of a rectangle equals to:  50\n",
      "The perimeter of a rectangle equals to:  30\n"
     ]
    }
   ],
   "source": [
    "height = int(input(\"Please enter a height of a rectangle\"))\n",
    "width = int(input(\"Please enter a width of a rectangle\"))\n",
    "\n",
    "area = height * width\n",
    "perimeter = 2 * (height + width)\n",
    "\n",
    "print(\"The area of a rectangle equals to: \", area)\n",
    "print(\"The perimeter of a rectangle equals to: \", perimeter)"
   ]
  },
  {
   "cell_type": "markdown",
   "metadata": {},
   "source": [
    "# 2. User inputs a positive natural number, output the sum of all smaller natural numbers."
   ]
  },
  {
   "cell_type": "code",
   "execution_count": 15,
   "metadata": {},
   "outputs": [
    {
     "name": "stdin",
     "output_type": "stream",
     "text": [
      "Please enter a positive number 10\n"
     ]
    },
    {
     "name": "stdout",
     "output_type": "stream",
     "text": [
      "The sum equals to:  55\n"
     ]
    }
   ],
   "source": [
    "num = int(input(\"Please enter a positive number\"))\n",
    "\n",
    "sum = 0\n",
    "\n",
    "if num < 0:\n",
    "    print(\"Please enter a positive number\")\n",
    "else:\n",
    "    while(num > 0):\n",
    "        sum += num\n",
    "        num -= 1\n",
    "    print(\"The sum equals to: \", sum)"
   ]
  },
  {
   "cell_type": "markdown",
   "metadata": {},
   "source": [
    "# 3. Write a program which prompts the user for a Celsius temperature, convert the temperature to Fahrenheit, and print out the converted temperature. F = 9/5(C) + 32"
   ]
  },
  {
   "cell_type": "code",
   "execution_count": 17,
   "metadata": {},
   "outputs": [
    {
     "name": "stdin",
     "output_type": "stream",
     "text": [
      "Please enter a temperature in celsius 25\n"
     ]
    },
    {
     "name": "stdout",
     "output_type": "stream",
     "text": [
      "the temperature in farenheit will be 77.0\n"
     ]
    }
   ],
   "source": [
    "c = int(input(\"Please enter a temperature in celsius\"))\n",
    "\n",
    "f = 9 / 5 * c + 32\n",
    "print(\"the temperature in farenheit will be\", f)"
   ]
  },
  {
   "cell_type": "markdown",
   "metadata": {},
   "source": [
    "# 4. Get a number from user and output if it's odd or even."
   ]
  },
  {
   "cell_type": "code",
   "execution_count": 21,
   "metadata": {},
   "outputs": [
    {
     "name": "stdin",
     "output_type": "stream",
     "text": [
      "Please enter a number 24\n"
     ]
    },
    {
     "name": "stdout",
     "output_type": "stream",
     "text": [
      "The number is even\n"
     ]
    }
   ],
   "source": [
    "number = int(input(\"Please enter a number\"))\n",
    "\n",
    "if(number % 2 == 0):\n",
    "    print(\"The number is even\")\n",
    "else:\n",
    "    print(\"The number is odd\")"
   ]
  },
  {
   "cell_type": "markdown",
   "metadata": {},
   "source": [
    "# 5. Take two numbers from user and output the greater number."
   ]
  },
  {
   "cell_type": "code",
   "execution_count": 26,
   "metadata": {},
   "outputs": [
    {
     "name": "stdin",
     "output_type": "stream",
     "text": [
      " 5\n",
      " 4\n"
     ]
    },
    {
     "name": "stdout",
     "output_type": "stream",
     "text": [
      "first number is greater then second\n"
     ]
    }
   ],
   "source": [
    "a = int(input())\n",
    "b = int(input())\n",
    "\n",
    "if(a > b):\n",
    "    print(\"first number is greater then second\")\n",
    "elif(a == b):\n",
    "    print(\"the numbers are equal\")\n",
    "else:\n",
    "    print(\"second number is greater then first\")"
   ]
  },
  {
   "cell_type": "markdown",
   "metadata": {},
   "source": [
    "# 6. Take three numbers form user and output the greater number."
   ]
  },
  {
   "cell_type": "code",
   "execution_count": 30,
   "metadata": {},
   "outputs": [
    {
     "name": "stdin",
     "output_type": "stream",
     "text": [
      "a =  45\n",
      "b =  478\n",
      "c =  2\n"
     ]
    },
    {
     "name": "stdout",
     "output_type": "stream",
     "text": [
      "the greater number is 478\n"
     ]
    }
   ],
   "source": [
    "a = int(input(\"a = \"))\n",
    "b = int(input(\"b = \"))\n",
    "c = int(input(\"c = \"))\n",
    "\n",
    "if(a >= b and a >= c):\n",
    "    print(\"the greater number is\", a)\n",
    "elif(b >= a and b >= c):\n",
    "    print(\"the greater number is\", b)\n",
    "else:\n",
    "    print(\"the greater number is\", c)\n"
   ]
  },
  {
   "cell_type": "markdown",
   "metadata": {},
   "source": [
    "# 7. Get Radius of a circle from user and ask if she wants to the Area or the Perimeter, then output the requested property."
   ]
  },
  {
   "cell_type": "code",
   "execution_count": 33,
   "metadata": {},
   "outputs": [
    {
     "name": "stdin",
     "output_type": "stream",
     "text": [
      "please input the radius of a circle 2\n",
      "please mention which property you want to know area or perimeter area\n"
     ]
    },
    {
     "name": "stdout",
     "output_type": "stream",
     "text": [
      "the area of a circle is: 12.56\n"
     ]
    }
   ],
   "source": [
    "radius = int(input(\"please input the radius of a circle\"))\n",
    "\n",
    "area_or_perimeter = input(\"please mention which property you want to know area or perimeter\")\n",
    "\n",
    "a = 3.14 * radius**2\n",
    "p = 2 * 3.14 * radius\n",
    "\n",
    "if(area_or_perimeter == \"area\"):\n",
    "    print(\"the area of a circle is:\",a)\n",
    "elif(area_or_perimeter == \"perimeter\"):\n",
    "    print(\"the area of a circle is:\",p)\n",
    "else:\n",
    "    print(\"please try again\")"
   ]
  },
  {
   "cell_type": "markdown",
   "metadata": {},
   "source": [
    "# 8. The Existential program.\n",
    "- Greet with user, and ask for their name. Print out their name in Title format and ask for their age.\n",
    "- If they enter a number less than 0, respond by \"You haven't even born yet!\".\n",
    "- If they enter a number between 0 and 100, respond by \"You are going to live for another X years!\" where X is how many years they are gonna live until 100.\n",
    "- If they enter a number greater than 100, respond by \"You are already dead!!\"."
   ]
  },
  {
   "cell_type": "code",
   "execution_count": 2,
   "metadata": {},
   "outputs": [
    {
     "name": "stdin",
     "output_type": "stream",
     "text": [
      "Hello! please enter ou name tamara\n"
     ]
    },
    {
     "name": "stdout",
     "output_type": "stream",
     "text": [
      "Tamara\n"
     ]
    },
    {
     "name": "stdin",
     "output_type": "stream",
     "text": [
      "How old are you -5\n"
     ]
    },
    {
     "name": "stdout",
     "output_type": "stream",
     "text": [
      "You haven't even born yet!\n"
     ]
    }
   ],
   "source": [
    "user_name_input = input(\"Hello! please enter ou name\")\n",
    "\n",
    "user_name = user_name_input.title()\n",
    "\n",
    "print(user_name)\n",
    "\n",
    "age = int(input(\"How old are you\"))\n",
    "\n",
    "if(age < 0):\n",
    "    print(\"You haven't even born yet!\")\n",
    "elif(age > 0 and age <= 100):\n",
    "    print(\"You are going to live for another\", 100 - age, \"years!\")\n",
    "else:\n",
    "    print(\"You are already dead!!\")\n",
    " "
   ]
  },
  {
   "cell_type": "markdown",
   "metadata": {},
   "source": [
    "# 9. User inputs a number, you have to check the divisibility of that number to 5 and 3. Then show the correct output.(one of these ones)\n",
    "- \"Your number is not divisible by 3 and 5\"\n",
    "- \"Your number is divisible by 3 and not by 5\"\n",
    "- \"Your number is divisible by 5 and not by 3\"\n",
    "- \"Your number is divisible by both 3 and 5\""
   ]
  },
  {
   "cell_type": "code",
   "execution_count": 4,
   "metadata": {},
   "outputs": [
    {
     "name": "stdin",
     "output_type": "stream",
     "text": [
      "Please enter a number 15\n"
     ]
    },
    {
     "name": "stdout",
     "output_type": "stream",
     "text": [
      "Your number is divisible by both 3 and 5\n"
     ]
    }
   ],
   "source": [
    "n = int(input(\"Please enter a number\"))\n",
    "\n",
    "if(n % 3 != 0 and n % 5 != 0):\n",
    "    print(\"Your number is not divisible by 3 and 5\")\n",
    "elif(n % 3 == 0 and n % 5 != 0):\n",
    "    print(\"Your number is divisible by 3 and not by 5\")\n",
    "elif(n % 3 != 0 and n % 5 == 0):\n",
    "    print(\"Your number is divisible by 5 and not by 3\")\n",
    "else:\n",
    "    print(\"Your number is divisible by both 3 and 5\")\n"
   ]
  },
  {
   "cell_type": "code",
   "execution_count": null,
   "metadata": {},
   "outputs": [],
   "source": []
  },
  {
   "cell_type": "code",
   "execution_count": null,
   "metadata": {},
   "outputs": [],
   "source": []
  },
  {
   "cell_type": "code",
   "execution_count": null,
   "metadata": {},
   "outputs": [],
   "source": []
  },
  {
   "cell_type": "code",
   "execution_count": null,
   "metadata": {},
   "outputs": [],
   "source": []
  },
  {
   "cell_type": "code",
   "execution_count": null,
   "metadata": {},
   "outputs": [],
   "source": []
  },
  {
   "cell_type": "code",
   "execution_count": null,
   "metadata": {},
   "outputs": [],
   "source": []
  },
  {
   "cell_type": "code",
   "execution_count": null,
   "metadata": {},
   "outputs": [],
   "source": []
  }
 ],
 "metadata": {
  "kernelspec": {
   "display_name": "Python 3",
   "language": "python",
   "name": "python3"
  },
  "language_info": {
   "codemirror_mode": {
    "name": "ipython",
    "version": 3
   },
   "file_extension": ".py",
   "mimetype": "text/x-python",
   "name": "python",
   "nbconvert_exporter": "python",
   "pygments_lexer": "ipython3",
   "version": "3.6.5"
  }
 },
 "nbformat": 4,
 "nbformat_minor": 2
}
