{
 "cells": [
  {
   "cell_type": "markdown",
   "metadata": {},
   "source": [
    "# 10. Write a program that counts from 0 until user's number."
   ]
  },
  {
   "cell_type": "code",
   "execution_count": 1,
   "metadata": {},
   "outputs": [
    {
     "name": "stdout",
     "output_type": "stream",
     "text": [
      "Please innput a number: 10\n",
      "0, 1, 2, 3, 4, 5, 6, 7, 8, 9, "
     ]
    }
   ],
   "source": [
    "number = int(input(\"Please innput a number: \"))\n",
    "\n",
    "for i in range(0, number):\n",
    "    print(i, end = \", \")\n",
    "    i += 1\n"
   ]
  },
  {
   "cell_type": "code",
   "execution_count": 2,
   "metadata": {},
   "outputs": [
    {
     "name": "stdout",
     "output_type": "stream",
     "text": [
      "Please input a number: 10\n",
      "0, 1, 2, 3, 4, 5, 6, 7, 8, 9, "
     ]
    }
   ],
   "source": [
    "number = int(input(\"Please input a number: \"))\n",
    "\n",
    "n = 0\n",
    "while(n < number):\n",
    "    print(n, end = \", \")\n",
    "    n += 1"
   ]
  },
  {
   "cell_type": "markdown",
   "metadata": {},
   "source": [
    "# 11. Write a program that counts from user's number until 0."
   ]
  },
  {
   "cell_type": "code",
   "execution_count": 4,
   "metadata": {},
   "outputs": [
    {
     "name": "stdout",
     "output_type": "stream",
     "text": [
      "10\n",
      "9, 8, 7, 6, 5, 4, 3, 2, 1, 0, "
     ]
    }
   ],
   "source": [
    "number = int(input())\n",
    "\n",
    "for i in range(number - 1, -1, -1):\n",
    "    if i >= 0:\n",
    "        print(i, end = \", \")\n",
    "    i -= 1\n"
   ]
  },
  {
   "cell_type": "code",
   "execution_count": 2,
   "metadata": {},
   "outputs": [
    {
     "name": "stdout",
     "output_type": "stream",
     "text": [
      "10\n",
      "9, 8, 7, 6, 5, 4, 3, 2, 1, 0, "
     ]
    }
   ],
   "source": [
    "number = int(input())\n",
    "\n",
    "n = number - 1\n",
    "while(n >= 0):\n",
    "    print(n, end = \", \")\n",
    "    n -= 1"
   ]
  },
  {
   "cell_type": "markdown",
   "metadata": {},
   "source": [
    "# 12. Write a program that adds all the positive integers that are less than user's number. (don't use multiplication or sum() )"
   ]
  },
  {
   "cell_type": "code",
   "execution_count": 10,
   "metadata": {},
   "outputs": [
    {
     "name": "stdout",
     "output_type": "stream",
     "text": [
      "10\n",
      "45\n"
     ]
    }
   ],
   "source": [
    "num = int(input())\n",
    "\n",
    "result = 0\n",
    "for i in range(0, num):\n",
    "    result += i\n",
    "    \n",
    "print(result)\n"
   ]
  },
  {
   "cell_type": "code",
   "execution_count": 1,
   "metadata": {},
   "outputs": [
    {
     "name": "stdout",
     "output_type": "stream",
     "text": [
      "10\n",
      "45\n"
     ]
    }
   ],
   "source": [
    "num = int(input())\n",
    "\n",
    "result = 0\n",
    "n = 0\n",
    "while (n < num):\n",
    "    result += n\n",
    "    n += 1\n",
    "    \n",
    "print(result)\n"
   ]
  },
  {
   "cell_type": "markdown",
   "metadata": {},
   "source": [
    "# 13. Write a program that adds all the even positive integers that are less than user's number."
   ]
  },
  {
   "cell_type": "code",
   "execution_count": 2,
   "metadata": {},
   "outputs": [
    {
     "name": "stdout",
     "output_type": "stream",
     "text": [
      "10\n",
      "20\n"
     ]
    }
   ],
   "source": [
    "num = int(input())\n",
    "\n",
    "result = 0\n",
    "for i in range(0, num):\n",
    "    if i % 2 == 0:\n",
    "        result += i\n",
    "    \n",
    "print(result)\n"
   ]
  },
  {
   "cell_type": "code",
   "execution_count": 2,
   "metadata": {},
   "outputs": [
    {
     "name": "stdout",
     "output_type": "stream",
     "text": [
      "10\n",
      "20\n"
     ]
    }
   ],
   "source": [
    "num = int(input())\n",
    "\n",
    "result = 0\n",
    "n = 0\n",
    "while (n < num):\n",
    "    if n % 2 == 0:\n",
    "        result += n\n",
    "    n += 2\n",
    "    \n",
    "print(result)"
   ]
  },
  {
   "cell_type": "markdown",
   "metadata": {},
   "source": [
    "# 14. Get 5 numbers from user and output the largest number."
   ]
  },
  {
   "cell_type": "code",
   "execution_count": 7,
   "metadata": {},
   "outputs": [
    {
     "name": "stdout",
     "output_type": "stream",
     "text": [
      "5\n",
      "11\n",
      "5\n",
      "54\n",
      "1\n",
      "54\n"
     ]
    }
   ],
   "source": [
    "maximum = 0\n",
    "for i in range(5):\n",
    "    user_number = int(input())\n",
    "    if i == 0 or user_number > maximum:\n",
    "        maximum = user_number\n",
    "print(maximum)\n",
    "    "
   ]
  },
  {
   "cell_type": "code",
   "execution_count": 3,
   "metadata": {},
   "outputs": [],
   "source": [
    "maxiumum = 0\n",
    "n = 0\n",
    "while(n < 5):\n",
    "    new_numbers = int(input())\n",
    "    if n == 0 or new_numbers > maximum:\n",
    "        maximum = new_numbers\n",
    "    n += 1\n",
    "print(maximum)\n",
    "    "
   ]
  },
  {
   "cell_type": "markdown",
   "metadata": {},
   "source": [
    "# 15. Similar to previous question but this time instead of 5 number, user will specify how many numbers is he going to input."
   ]
  },
  {
   "cell_type": "code",
   "execution_count": 6,
   "metadata": {},
   "outputs": [
    {
     "name": "stdout",
     "output_type": "stream",
     "text": [
      "3\n",
      "45\n",
      "5\n",
      "65\n",
      "65\n"
     ]
    }
   ],
   "source": [
    "maximum = 0\n",
    "a = 0\n",
    "b = int(input())\n",
    "while(a < b):\n",
    "    new_numbers = int(input())\n",
    "    if a == 0 or new_numbers > maximum:\n",
    "        maximum = new_numbers\n",
    "    a += 1\n",
    "print(maximum)"
   ]
  },
  {
   "cell_type": "code",
   "execution_count": 7,
   "metadata": {},
   "outputs": [
    {
     "name": "stdout",
     "output_type": "stream",
     "text": [
      "4\n",
      "6\n",
      "54\n",
      "85\n",
      "3\n",
      "85\n"
     ]
    }
   ],
   "source": [
    "maximum = 0\n",
    "c = int(input())\n",
    "for i in range(c):\n",
    "    user_number = int(input())\n",
    "    if i == 0 or user_number > maximum:\n",
    "        maximum = user_number\n",
    "print(maximum)\n",
    "    "
   ]
  },
  {
   "cell_type": "markdown",
   "metadata": {},
   "source": [
    "# 16. Ask user, how many number she wishes to enter, then get all those numbers and print the list."
   ]
  },
  {
   "cell_type": "code",
   "execution_count": 13,
   "metadata": {},
   "outputs": [
    {
     "name": "stdout",
     "output_type": "stream",
     "text": [
      "How many numbers do you want to input: 3\n",
      "1\n",
      "2\n",
      "3\n",
      "[1, 2, 3]\n"
     ]
    }
   ],
   "source": [
    "number_count = int(input(\"How many numbers do you want to input: \"))\n",
    "list_numbers = []\n",
    "for i in range(number_count):\n",
    "    n = int(input())\n",
    "    list_numbers.append(n)\n",
    "print(list_numbers)\n"
   ]
  },
  {
   "cell_type": "code",
   "execution_count": 14,
   "metadata": {},
   "outputs": [
    {
     "name": "stdout",
     "output_type": "stream",
     "text": [
      "How many numbers do you want to input: 3\n",
      "4\n",
      "5\n",
      "6\n",
      "[4, 5, 6]\n"
     ]
    }
   ],
   "source": [
    "number_count = int(input(\"How many numbers do you want to input: \"))\n",
    "list_numbers = []\n",
    "a = 0\n",
    "while(a <  number_count):\n",
    "    n = int(input())\n",
    "    list_numbers.append(n)\n",
    "    a += 1\n",
    "print(list_numbers)"
   ]
  },
  {
   "cell_type": "markdown",
   "metadata": {},
   "source": [
    "# 17. Randomly fill a list with 10 integers between -99 to +99.\n",
    "possible output: [-34, 21, 0, 65, 49, -73, -86, 93, 2, 10]"
   ]
  },
  {
   "cell_type": "code",
   "execution_count": 18,
   "metadata": {},
   "outputs": [
    {
     "name": "stdout",
     "output_type": "stream",
     "text": [
      "[-94, 64, 70, 71, -3, -61, -9, -38, -82, 89]\n"
     ]
    }
   ],
   "source": [
    "from random import randint\n",
    "\n",
    "my_list = []\n",
    "for i in range(10):\n",
    "    number = randint(-99,99)\n",
    "    my_list.append(number)\n",
    "print(my_list)\n"
   ]
  },
  {
   "cell_type": "code",
   "execution_count": 19,
   "metadata": {},
   "outputs": [
    {
     "name": "stdout",
     "output_type": "stream",
     "text": [
      "[-3, -13, -56, 74, 11, -6, 50, -18, -67, 18]\n"
     ]
    }
   ],
   "source": [
    "from random import randint\n",
    "\n",
    "my_list = []\n",
    "n = 0\n",
    "while(n < 10):\n",
    "    number = randint(-99,99)\n",
    "    my_list.append(number)\n",
    "    n += 1\n",
    "    \n",
    "print(my_list)"
   ]
  },
  {
   "cell_type": "markdown",
   "metadata": {},
   "source": [
    "# 18. Output the sum of all numbers of a list. (list could be randomly generated)"
   ]
  },
  {
   "cell_type": "code",
   "execution_count": 24,
   "metadata": {},
   "outputs": [
    {
     "name": "stdout",
     "output_type": "stream",
     "text": [
      "-31 75 -2 -48 -31 -42 -62 -98 67 83 \n",
      " the result is -89\n"
     ]
    }
   ],
   "source": [
    "from random import randint\n",
    "\n",
    "result = 0\n",
    "for i in range(10):\n",
    "    number = randint(-99,99)\n",
    "    result += number\n",
    "    print(number, end = \" \")\n",
    "    \n",
    "print(f\"\\n the result is {result}\")\n"
   ]
  },
  {
   "cell_type": "code",
   "execution_count": 25,
   "metadata": {},
   "outputs": [
    {
     "name": "stdout",
     "output_type": "stream",
     "text": [
      "-69 -31 90 7 -5 -10 81 39 98 -88 \n",
      " the result is 112\n"
     ]
    }
   ],
   "source": [
    "from random import randint\n",
    "\n",
    "result = 0\n",
    "n = 0\n",
    "while(n < 10):\n",
    "    number = randint(-99,99)\n",
    "    print(number, end = \" \")\n",
    "    result += number\n",
    "    n += 1\n",
    "    \n",
    "print(f\"\\n the result is {result}\")\n"
   ]
  },
  {
   "cell_type": "markdown",
   "metadata": {},
   "source": [
    "# 19. Output the average of a list."
   ]
  },
  {
   "cell_type": "code",
   "execution_count": 26,
   "metadata": {},
   "outputs": [
    {
     "name": "stdout",
     "output_type": "stream",
     "text": [
      "The list: [14, 14, 0, 8, 2, 16, 16, 13, 7, 3]\n",
      "The average: 9.3\n"
     ]
    }
   ],
   "source": [
    "import random\n",
    "\n",
    "nums = [random.randint(0, 20) for i in range(10)]\n",
    "\n",
    "print(f\"The list: {nums}\")\n",
    "avg = sum(nums)/len(nums)\n",
    "print(f\"The average: {avg}\")"
   ]
  },
  {
   "cell_type": "markdown",
   "metadata": {},
   "source": [
    "# 20. Copy the even numbers of a list to a new list and show the new list."
   ]
  },
  {
   "cell_type": "code",
   "execution_count": 28,
   "metadata": {},
   "outputs": [
    {
     "name": "stdout",
     "output_type": "stream",
     "text": [
      "[0, 18, 7, 12, 13, 10, 11, 15, 12, 13]\n",
      "[0, 18, 12, 10, 12]\n"
     ]
    }
   ],
   "source": [
    "import random\n",
    "\n",
    "nums = [random.randint(0,20) for i in range(10)]\n",
    "\n",
    "print(nums)\n",
    "\n",
    "new_list = []\n",
    "for j in range(10):\n",
    "    if nums[j] % 2 == 0:\n",
    "        new_list.append(nums[j])\n",
    "\n",
    "print(new_list)"
   ]
  },
  {
   "cell_type": "markdown",
   "metadata": {},
   "source": [
    "# 21. Raise every number of the list to power 2 in the same list.\n",
    "input: [3, 4, -2, 1, 9]\n",
    "output: [9, 16, 4, 1, 81]"
   ]
  },
  {
   "cell_type": "code",
   "execution_count": 33,
   "metadata": {},
   "outputs": [
    {
     "name": "stdout",
     "output_type": "stream",
     "text": [
      "input: [3, 18, 10, 12]\n",
      "output: [9, 324, 100, 144]\n"
     ]
    }
   ],
   "source": [
    "import random\n",
    "\n",
    "input = [random.randint(0,20) for i in range(4)]\n",
    "\n",
    "print(f\"input: {input}\")\n",
    "\n",
    "output = []\n",
    "for k in range(4):\n",
    "    output.append(input[k] ** 2)\n",
    "    \n",
    "print(f\"output: {output}\")\n"
   ]
  },
  {
   "cell_type": "code",
   "execution_count": 34,
   "metadata": {},
   "outputs": [
    {
     "name": "stdout",
     "output_type": "stream",
     "text": [
      "input: [19, 13, 20, 1]\n",
      "output: [361, 169, 400, 1]\n"
     ]
    }
   ],
   "source": [
    "import random\n",
    "\n",
    "input = [random.randint(0,20) for i in range(4)]\n",
    "\n",
    "print(f\"input: {input}\")\n",
    "\n",
    "output = []\n",
    "n = 0\n",
    "while(n < 4):\n",
    "    output.append(input[n] ** 2)\n",
    "    n += 1\n",
    "\n",
    "print(f\"output: {output}\")"
   ]
  },
  {
   "cell_type": "markdown",
   "metadata": {},
   "source": [
    "# 22. Write a program to find the second smallest and the second largest number in a list.\n",
    "input: [3, 4, -2, 1, 9, 6, 34, 5]\n",
    "output: second smallest is 1\n",
    "second largest is 9"
   ]
  },
  {
   "cell_type": "code",
   "execution_count": 37,
   "metadata": {},
   "outputs": [
    {
     "name": "stdout",
     "output_type": "stream",
     "text": [
      "[-14, 1, 6, -13, 12, -15, -18, 19, 20, -3]\n",
      "[-18, -15, -14, -13, -3, 1, 6, 12, 19, 20]\n",
      "second smallest is -15 second largest is 19\n"
     ]
    }
   ],
   "source": [
    "import random\n",
    "\n",
    "input = [random.randint(-20,20) for i in range(10)]\n",
    "print(input)\n",
    "\n",
    "input.sort()\n",
    "print(input)\n",
    "print(f\"second smallest is {input[1]} second largest is {input[-2]}\")"
   ]
  },
  {
   "cell_type": "markdown",
   "metadata": {},
   "source": [
    "# 23. Write a program to make a new list but without duplicates.\n",
    "input: [1, 1, 1, 2, 3, 4, 4, 5, 5, 5]\n",
    "output: [1, 2, 3, 4, 5]"
   ]
  },
  {
   "cell_type": "code",
   "execution_count": 46,
   "metadata": {},
   "outputs": [
    {
     "name": "stdout",
     "output_type": "stream",
     "text": [
      "[5, 4, 1, 9, 7, 2, 8, 1, 5, 8]\n",
      "[1, 2, 4, 5, 7, 8, 9]\n"
     ]
    }
   ],
   "source": [
    "import random\n",
    "\n",
    "input = [random.randint(1,10) for i in range(10)]\n",
    "print(input)\n",
    "\n",
    "input.sort()\n",
    "\n",
    "output = []\n",
    "for j in range(10):\n",
    "    if input[j-1] != input[j]:\n",
    "        output.append(input[j])\n",
    "        \n",
    "print(output)"
   ]
  },
  {
   "cell_type": "code",
   "execution_count": 9,
   "metadata": {},
   "outputs": [
    {
     "name": "stdout",
     "output_type": "stream",
     "text": [
      "[9, 3, 15, 15, 11, 2, 4, 8, 11, 14]\n",
      "[14, 0, 3, 9, 8, 11, 13, 13, 12, 8, 3, 14, 4, 7, 8]\n",
      "True\n"
     ]
    }
   ],
   "source": [
    "import random\n",
    "\n",
    "c = [random.randint(0, 15) for i in range(10)]\n",
    "d = [random.randint(0, 15) for i in range(15)]\n",
    "\n",
    "def common(c, d):\n",
    "    for i in c:\n",
    "        for j in d:\n",
    "            if i == j:\n",
    "                return True\n",
    "                return False\n",
    "            \n",
    "print(c)\n",
    "print(d)\n",
    "print(common(c, d))"
   ]
  },
  {
   "cell_type": "code",
   "execution_count": null,
   "metadata": {},
   "outputs": [],
   "source": []
  },
  {
   "cell_type": "code",
   "execution_count": null,
   "metadata": {},
   "outputs": [],
   "source": []
  },
  {
   "cell_type": "code",
   "execution_count": null,
   "metadata": {},
   "outputs": [],
   "source": []
  }
 ],
 "metadata": {
  "kernelspec": {
   "display_name": "Python 3",
   "language": "python",
   "name": "python3"
  },
  "language_info": {
   "codemirror_mode": {
    "name": "ipython",
    "version": 3
   },
   "file_extension": ".py",
   "mimetype": "text/x-python",
   "name": "python",
   "nbconvert_exporter": "python",
   "pygments_lexer": "ipython3",
   "version": "3.6.5"
  }
 },
 "nbformat": 4,
 "nbformat_minor": 2
}
